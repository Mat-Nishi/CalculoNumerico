{
 "cells": [
  {
   "cell_type": "markdown",
   "id": "28d32b4d",
   "metadata": {},
   "source": [
    "# Algoritmo de Horner\n",
    " Avalia um polinômio e sua derivada para um \"X\" fornecido <br>\n",
    " Entrada: valor de X a calcular, grau do polinômio (n) e os coeficientes a0, a1, . . . , an<br>\n",
    " Saída: y = p(X) e z = p'(X)"
   ]
  },
  {
   "cell_type": "code",
   "execution_count": 1,
   "id": "a66c7186",
   "metadata": {},
   "outputs": [],
   "source": [
    "def horner(x,n,*a):\n",
    "    a = a[::-1]\n",
    "    y = a[n]\n",
    "    z = a[n]\n",
    "    \n",
    "    for j in range(n-1, 0, -1):\n",
    "        y = x*y + a[j]\n",
    "        z = x*z + y\n",
    "    y = x*y + a[0]\n",
    "    return y,z"
   ]
  },
  {
   "cell_type": "markdown",
   "id": "5a3ebbc9",
   "metadata": {},
   "source": [
    "# Método de Newton\n",
    "\n",
    "Algoritmo iterativo para encontrar o zero de uma função<br><br>\n",
    "$\n",
    "x_1 = x_0 − \\frac{p(x_0)}{p'(x_0)}\n",
    "$\n",
    "<br><br>\n",
    "\n",
    "A avaliação do polinômio, bem como sua derivada é calculada pelo algoritmo de Horner"
   ]
  },
  {
   "cell_type": "code",
   "execution_count": 2,
   "id": "1f0bee96",
   "metadata": {},
   "outputs": [],
   "source": [
    "def newton(x,tabela=False):\n",
    "    it = 0\n",
    "    itMax = 10\n",
    "    n, a = func()\n",
    "    while it < itMax:\n",
    "        it += 1\n",
    "        n, a = func()\n",
    "        p,q = horner(x,n,*a)\n",
    "        x = x-(p/q)\n",
    "        if tabela:\n",
    "            print(f\"Iter:{it:02d} | Raiz: {x:.6f} | Diferença: {(p/q):.10f}\")\n",
    "    return x"
   ]
  },
  {
   "cell_type": "markdown",
   "id": "87079cd1",
   "metadata": {},
   "source": [
    "# Exemplo\n",
    "Demonstração com o polinômio<br>\n",
    "$\n",
    "x^4 − 3x^3 + x^2 + x + 1\n",
    "$"
   ]
  },
  {
   "cell_type": "code",
   "execution_count": 3,
   "id": "a0338b53",
   "metadata": {},
   "outputs": [],
   "source": [
    "# Definindo a função para ser passada para o algoritmo de horner\n",
    "def func():\n",
    "    return 4, [1,-3,1,1,1] # Grau 4 e lista contendo os coefs"
   ]
  },
  {
   "cell_type": "markdown",
   "id": "0adcd10e",
   "metadata": {},
   "source": [
    "Plotando o gráfico para estimar o \"x\" inicial"
   ]
  },
  {
   "cell_type": "code",
   "execution_count": 4,
   "id": "b87f3d7e",
   "metadata": {},
   "outputs": [
    {
     "data": {
      "image/png": "[encoded data removed]",
      "text/plain": [
       "<Figure size 640x480 with 1 Axes>"
      ]
     },
     "metadata": {},
     "output_type": "display_data"
    }
   ],
   "source": [
    "import numpy as np\n",
    "from matplotlib import pyplot as plt\n",
    "\n",
    "x = np.linspace(-1, 3, num=100)\n",
    "coefs = list(func()[1])[::-1]\n",
    "y = np.array([np.sum(np.array([coefs[i]*(j**i) for i in range(len(coefs))])) for j in x])\n",
    "plt.style.use(\"classic\")\n",
    "plt.plot(x, y, c='r', label=r'$x^4-3x^3+x^2+x+1$')\n",
    "plt.grid()\n",
    "plt.axvline()\n",
    "plt.axhline()\n",
    "plt.legend(loc=\"upper left\")\n",
    "plt.show()"
   ]
  },
  {
   "cell_type": "markdown",
   "id": "8203f6cb",
   "metadata": {},
   "source": [
    "A partir do gráfico, estimamos os valores inicias de \"x\" como 1,5 e 2,5 para encontrar as duas raízes reais"
   ]
  },
  {
   "cell_type": "code",
   "execution_count": 5,
   "id": "b9f44503",
   "metadata": {},
   "outputs": [
    {
     "name": "stdout",
     "output_type": "stream",
     "text": [
      "As raízes reais são 1.3893906833349339 e 2.2887949921884863\n"
     ]
    }
   ],
   "source": [
    "r1, r2 = newton(1.5), newton(2.5)\n",
    "print(f\"As raízes reais são {r1} e {r2}\")"
   ]
  },
  {
   "cell_type": "markdown",
   "id": "40c20ba7",
   "metadata": {},
   "source": [
    "Tabela com as iterações do método de newton para a primeira raíz"
   ]
  },
  {
   "cell_type": "code",
   "execution_count": 6,
   "id": "a9f4f1fa",
   "metadata": {},
   "outputs": [
    {
     "name": "stdout",
     "output_type": "stream",
     "text": [
      "Iter:01 | Raiz: 1.386364 | Diferença: 0.1136363636\n",
      "Iter:02 | Raiz: 1.389390 | Diferença: -0.0030268473\n",
      "Iter:03 | Raiz: 1.389391 | Diferença: -0.0000001996\n",
      "Iter:04 | Raiz: 1.389391 | Diferença: -0.0000000000\n",
      "Iter:05 | Raiz: 1.389391 | Diferença: 0.0000000000\n",
      "Iter:06 | Raiz: 1.389391 | Diferença: 0.0000000000\n",
      "Iter:07 | Raiz: 1.389391 | Diferença: 0.0000000000\n",
      "Iter:08 | Raiz: 1.389391 | Diferença: 0.0000000000\n",
      "Iter:09 | Raiz: 1.389391 | Diferença: 0.0000000000\n",
      "Iter:10 | Raiz: 1.389391 | Diferença: 0.0000000000\n"
     ]
    },
    {
     "data": {
      "text/plain": [
       "1.3893906833349339"
      ]
     },
     "execution_count": 6,
     "metadata": {},
     "output_type": "execute_result"
    }
   ],
   "source": [
    "newton(1.5, tabela=True)"
   ]
  },
  {
   "cell_type": "markdown",
   "id": "8427172a",
   "metadata": {},
   "source": [
    "<br>-------------------------------------------------------------------------------------<br>\n",
    "# Algoritmo de Muller\n",
    "\n",
    "Método numérico (iterativo) para aproximar raízes complexas<br>\n",
    "Entrada: f(x) e as aproximações iniciais x0, x1 e x2. <br>\n",
    "Saída: raíz aproximada de f(x) ou não converge para uma raiz."
   ]
  },
  {
   "cell_type": "code",
   "execution_count": 7,
   "id": "3d356fbc",
   "metadata": {},
   "outputs": [],
   "source": [
    "def muller(f,x0,x1,x2, tabela=False):\n",
    "    itMax, it, tol = 30, 0, 1e-6\n",
    "    x = x2\n",
    "    while abs(f(x)) > tol and it < itMax:\n",
    "        it = it+1\n",
    "        c = f(x2)\n",
    "        q0 = (f(x0) - f(x2)) / (x0-x2)\n",
    "        q1 = (f(x1) - f(x2)) / (x1-x2)\n",
    "        a = (q0-q1) / (x0-x1)\n",
    "        b = ((q0*(x2-x1))/(x0-x1)) + ((q1*(x0-x2))/(x0-x1))\n",
    "        x = x2 - ((2*c)/(b + ((b/abs(b))*(b**2 - (4*a*c))**0.5)))\n",
    "        x0, x1, x2 = x1, x2, x\n",
    "        \n",
    "        if tabela:\n",
    "            if type(tabela) == bool or it%tabela == 0 or it == 1:\n",
    "                print(f\"Iter:{it:02d} | Raiz: {x:.6f} | Diferença: {(x1-x2):.10f}\")\n",
    "        \n",
    "    return x\n"
   ]
  },
  {
   "cell_type": "markdown",
   "id": "4f46028d",
   "metadata": {},
   "source": [
    "# Exemplo\n",
    "Utilizando o mesmo polinômio anterior<br>\n",
    "$\n",
    "x^4 − 3x^3 + x^2 + x + 1\n",
    "$"
   ]
  },
  {
   "cell_type": "code",
   "execution_count": 8,
   "id": "65ac0ee8",
   "metadata": {},
   "outputs": [],
   "source": [
    "def f(x):\n",
    "    return x**4 - 3*x**3 + x**2 + x + 1"
   ]
  },
  {
   "cell_type": "markdown",
   "id": "f38ffe1b",
   "metadata": {},
   "source": [
    "<br>\n",
    "Plotando o gráfico novamente para escolher os pontos iniciais"
   ]
  },
  {
   "cell_type": "code",
   "execution_count": 9,
   "id": "cf46a25e",
   "metadata": {
    "scrolled": false
   },
   "outputs": [
    {
     "data": {
      "image/png": "[encoded data removed]",
      "text/plain": [
       "<Figure size 640x480 with 1 Axes>"
      ]
     },
     "metadata": {},
     "output_type": "display_data"
    }
   ],
   "source": [
    "import numpy as np\n",
    "from matplotlib import pyplot as plt\n",
    "\n",
    "x = np.linspace(-1, 3, num=100)\n",
    "plt.style.use(\"classic\")\n",
    "plt.plot(x, f(x), c='r', label=r'$x^4-3x^3+x^2+x+1$')\n",
    "plt.grid()\n",
    "plt.axvline()\n",
    "plt.axhline()\n",
    "plt.legend(loc=\"upper left\")\n",
    "plt.show()"
   ]
  },
  {
   "cell_type": "markdown",
   "id": "8b70888f",
   "metadata": {},
   "source": [
    "<br>\n",
    "Aproximando as raízes reais"
   ]
  },
  {
   "cell_type": "code",
   "execution_count": 10,
   "id": "8bc40007",
   "metadata": {},
   "outputs": [
    {
     "name": "stdout",
     "output_type": "stream",
     "text": [
      "As raízes reais são 1.389390761933519 e 2.288794991668356\n"
     ]
    }
   ],
   "source": [
    "r1, r2 = muller(f, 0,1,2), muller(f, 1,2,3)\n",
    "print(f\"As raízes reais são {r1} e {r2}\")"
   ]
  },
  {
   "cell_type": "markdown",
   "id": "3128cd25",
   "metadata": {},
   "source": [
    "Tabela com as iterações do método de muller para a primeira raíz"
   ]
  },
  {
   "cell_type": "code",
   "execution_count": 11,
   "id": "f2bec2fb",
   "metadata": {},
   "outputs": [
    {
     "name": "stdout",
     "output_type": "stream",
     "text": [
      "Iter:01 | Raiz: 1.618034 | Diferença: 0.3819660113\n",
      "Iter:02 | Raiz: 1.323071 | Diferença: 0.2949628993\n",
      "Iter:03 | Raiz: 1.379694 | Diferença: -0.0566232890\n",
      "Iter:04 | Raiz: 1.389532 | Diferença: -0.0098375626\n",
      "Iter:05 | Raiz: 1.389391 | Diferença: 0.0001411792\n"
     ]
    },
    {
     "data": {
      "text/plain": [
       "1.389390761933519"
      ]
     },
     "execution_count": 11,
     "metadata": {},
     "output_type": "execute_result"
    }
   ],
   "source": [
    "muller(f,0,1,2, tabela=True)"
   ]
  },
  {
   "cell_type": "markdown",
   "id": "327fac5e",
   "metadata": {},
   "source": [
    "<br>\n",
    "Aproximando uma raiz complexa"
   ]
  },
  {
   "cell_type": "code",
   "execution_count": 12,
   "id": "d21ccda8",
   "metadata": {
    "scrolled": true
   },
   "outputs": [
    {
     "name": "stdout",
     "output_type": "stream",
     "text": [
      "Uma raiz complexa é (-0.33909296250720633+0.44662976694337275j)\n"
     ]
    }
   ],
   "source": [
    "r = muller(f, -0.5,0,0.5)\n",
    "print(f\"Uma raiz complexa é {r}\")"
   ]
  },
  {
   "cell_type": "markdown",
   "id": "d34a25db",
   "metadata": {},
   "source": [
    "<br>\n",
    "Tabela com as iterações do método de muller para encontrar a raiz complexa"
   ]
  },
  {
   "cell_type": "code",
   "execution_count": 13,
   "id": "4ce4eb72",
   "metadata": {},
   "outputs": [
    {
     "name": "stdout",
     "output_type": "stream",
     "text": [
      "Iter:01 | Raiz: -0.100000+0.888819j | Diferença: 0.6000000000-0.8888194417j\n",
      "Iter:05 | Raiz: -0.356123+0.452697j | Diferença: 0.0287550047+0.0211055864j\n",
      "Iter:10 | Raiz: -0.339822+0.444667j | Diferença: -0.0023013057+0.0030879874j\n",
      "Iter:15 | Raiz: -0.338868+0.446546j | Diferença: -0.0003542572-0.0002623347j\n",
      "Iter:20 | Raiz: -0.339083+0.446656j | Diferença: 0.0000299471-0.0000404249j\n",
      "Iter:25 | Raiz: -0.339096+0.446631j | Diferença: 0.0000046095+0.0000034150j\n",
      "Iter:30 | Raiz: -0.339093+0.446630j | Diferença: -0.0000003894+0.0000005256j\n"
     ]
    }
   ],
   "source": [
    "r = muller(f, -0.5,0,0.5, tabela=5)"
   ]
  }
 ],
 "metadata": {
  "kernelspec": {
   "display_name": "Python 3 (ipykernel)",
   "language": "python",
   "name": "python3"
  },
  "language_info": {
   "codemirror_mode": {
    "name": "ipython",
    "version": 3
   },
   "file_extension": ".py",
   "mimetype": "text/x-python",
   "name": "python",
   "nbconvert_exporter": "python",
   "pygments_lexer": "ipython3",
   "version": "3.9.7"
  }
 },
 "nbformat": 4,
 "nbformat_minor": 5
}
